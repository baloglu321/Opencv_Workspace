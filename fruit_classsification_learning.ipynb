{
 "cells": [
  {
   "cell_type": "code",
   "execution_count": 9,
   "id": "e0b45db9",
   "metadata": {},
   "outputs": [],
   "source": [
    "import cv2\n",
    "import numpy as np\n",
    "import os\n",
    "import tensorflow as tf\n",
    "from sklearn.model_selection import train_test_split\n",
    "from sklearn.metrics import confusion_matrix\n",
    "import matplotlib.pyplot as mp\n",
    "from keras.models import Sequential\n",
    "from keras.layers import Dense,Conv2D,MaxPooling2D,Flatten\n",
    "from keras.preprocessing.image import ImageDataGenerator\n",
    "from sklearn.preprocessing import LabelEncoder\n",
    "import warnings\n"
   ]
  },
  {
   "cell_type": "code",
   "execution_count": 10,
   "id": "78295b51",
   "metadata": {},
   "outputs": [
    {
     "name": "stdout",
     "output_type": "stream",
     "text": [
      "Label (Sınıf) Sayısı 134\n"
     ]
    }
   ],
   "source": [
    "#warnings.filterwarnings(\"ignore\")\n",
    "path=\"Fruit_360\"\n",
    "\n",
    "mylist=os.listdir(path)\n",
    "\n",
    "classes=len(mylist)\n",
    "\n",
    "print(\"Label (Sınıf) Sayısı\",classes)\n",
    "\n",
    "\n"
   ]
  },
  {
   "cell_type": "code",
   "execution_count": 11,
   "id": "2c5a1815",
   "metadata": {},
   "outputs": [
    {
     "name": "stdout",
     "output_type": "stream",
     "text": [
      "90406\n",
      "90406\n"
     ]
    }
   ],
   "source": [
    "images=[]\n",
    "class_name=[]\n",
    "\n",
    "for i in range(classes):\n",
    "    class_fruit=os.listdir(path+\"\\\\\"+mylist[i])\n",
    "    \n",
    "    for j in class_fruit:\n",
    "        img=cv2.imread(path+\"\\\\\"+mylist[i]+\"\\\\\"+j)\n",
    "        img=cv2.resize(img, (32,32))\n",
    "        images.append(img)\n",
    "        class_name.append(mylist[i])\n",
    "        \n",
    "print(len(images))\n",
    "print(len(class_name))         \n",
    "\n",
    "images=np.array(images)\n",
    "class_name=np.array(class_name)\n"
   ]
  },
  {
   "cell_type": "code",
   "execution_count": 12,
   "id": "0a6cc616",
   "metadata": {},
   "outputs": [
    {
     "name": "stdout",
     "output_type": "stream",
     "text": [
      "Resim Sayısı :90406\n",
      "Eğitim Verisi Sayısı: 36162\n",
      "Test Verisi Sayısı: 45203\n",
      "Doğrulama Versisi Sayısı:9041\n"
     ]
    }
   ],
   "source": [
    "#train,test,validation split\n",
    "\n",
    "x1,x2,y1,y2=train_test_split(images,class_name,test_size=0.5,random_state=42)\n",
    "\n",
    "x1,x_validation,y1,y_validation=train_test_split(x1,y1,test_size=0.2,random_state=42)\n",
    "\n",
    "print(f\"Resim Sayısı :{images.shape[0]}\\nEğitim Verisi Sayısı: {x1.shape[0]}\\nTest Verisi Sayısı: {x2.shape[0]}\\nDoğrulama Versisi Sayısı:{x_validation.shape[0]}\")\n"
   ]
  },
  {
   "cell_type": "code",
   "execution_count": 13,
   "id": "89760090",
   "metadata": {},
   "outputs": [],
   "source": [
    "def pre_process(img) :\n",
    "    img=img/255 #normalize\n",
    "    return img\n"
   ]
  },
  {
   "cell_type": "code",
   "execution_count": 14,
   "id": "a6459dd6",
   "metadata": {},
   "outputs": [],
   "source": [
    "x1=np.array(list(map(pre_process,x1)))\n",
    "x2=np.array(list(map(pre_process,x2)))\n",
    "x_validation=np.array(list(map(pre_process,x_validation)))\n",
    "\n",
    "x1=x1.reshape(-1,32,32,3)\n",
    "x2=x2.reshape(-1,32,32,3)\n",
    "x_validation=x_validation.reshape(-1,32,32,3)\n",
    "\n",
    "#data generate\n",
    "\n",
    "data_gen=ImageDataGenerator(width_shift_range=0.1,\n",
    "                            height_shift_range=0.1,\n",
    "                            zoom_range=0.2,\n",
    "                            rotation_range=90)\n",
    "\n",
    "data_gen.fit(x1)\n"
   ]
  },
  {
   "cell_type": "code",
   "execution_count": 15,
   "id": "161f471e",
   "metadata": {},
   "outputs": [],
   "source": [
    "#encoding label encoeder kullandık\n",
    "lb=LabelEncoder()\n",
    "encoder=lb.fit(class_name)\n",
    "#daha sonra kullanacağımız için verinin classlarını kaydettik\n",
    "np.save(\"classes.npy\",encoder.classes_)\n",
    "#sözel veriyi sayısal veriye çevirdik\n",
    "y1=lb.transform(y1)\n",
    "y2=lb.transform(y2)\n",
    "y_validation=lb.transform(y_validation)\n"
   ]
  },
  {
   "cell_type": "code",
   "execution_count": 16,
   "id": "ec5dc005",
   "metadata": {},
   "outputs": [],
   "source": [
    "#process\n",
    "model=Sequential()\n",
    "model.add(Conv2D(input_shape=(32,32,3),filters=32, kernel_size=(3,3),activation=\"relu\",padding=\"same\"))\n",
    "#padding pixel ekleme yaparak kayıp yaşanamasını engelliyor\n",
    "model.add(MaxPooling2D(pool_size=(2,2)))\n",
    "\n",
    "model.add(Conv2D(filters=64, kernel_size=(3,3),activation=\"relu\",padding=\"same\"))\n",
    "\n",
    "model.add(MaxPooling2D(pool_size=(2,2)))\n",
    "\n",
    "model.add(Conv2D(filters=64, kernel_size=(3,3),activation=\"relu\",padding=\"same\"))\n",
    "\n",
    "model.add(MaxPooling2D(pool_size=(2,2)))\n",
    "\n",
    "\n",
    "#düzleştirme\n",
    "model.add(Flatten())\n",
    "model.add(Dense(units=128, activation=\"relu\"))\n",
    "\n",
    "#çıkış katı\n",
    "model.add(Dense(units=classes, activation=\"softmax\"))\n",
    "model.compile(loss=tf.keras.losses.SparseCategoricalCrossentropy(from_logits=True),optimizer=\"adam\",metrics=[\"accuracy\"])\n",
    "\n",
    "batch_size=150\n"
   ]
  },
  {
   "cell_type": "code",
   "execution_count": 17,
   "id": "4add0e58",
   "metadata": {},
   "outputs": [
    {
     "name": "stderr",
     "output_type": "stream",
     "text": [
      "C:\\Users\\polat\\AppData\\Local\\Temp\\ipykernel_15864\\4046035485.py:1: UserWarning: `Model.fit_generator` is deprecated and will be removed in a future version. Please use `Model.fit`, which supports generators.\n",
      "  hist=model.fit_generator(data_gen.flow(x1,y1,batch_size=batch_size),\n"
     ]
    },
    {
     "name": "stdout",
     "output_type": "stream",
     "text": [
      "Epoch 1/8\n"
     ]
    },
    {
     "name": "stderr",
     "output_type": "stream",
     "text": [
      "C:\\Users\\polat\\AppData\\Local\\Programs\\Python\\Python39\\lib\\site-packages\\keras\\backend.py:5582: UserWarning: \"`sparse_categorical_crossentropy` received `from_logits=True`, but the `output` argument was produced by a Softmax activation and thus does not represent logits. Was this intended?\n",
      "  output, from_logits = _get_logits(\n"
     ]
    },
    {
     "name": "stdout",
     "output_type": "stream",
     "text": [
      "241/241 [==============================] - 22s 68ms/step - loss: 2.7376 - accuracy: 0.3128 - val_loss: 1.1495 - val_accuracy: 0.6571\n",
      "Epoch 2/8\n",
      "241/241 [==============================] - 15s 62ms/step - loss: 0.9302 - accuracy: 0.7090 - val_loss: 0.5626 - val_accuracy: 0.8290\n",
      "Epoch 3/8\n",
      "241/241 [==============================] - 15s 62ms/step - loss: 0.5880 - accuracy: 0.8118 - val_loss: 0.6931 - val_accuracy: 0.7734\n",
      "Epoch 4/8\n",
      "241/241 [==============================] - 15s 62ms/step - loss: 0.4569 - accuracy: 0.8490 - val_loss: 0.3940 - val_accuracy: 0.8683\n",
      "Epoch 5/8\n",
      "241/241 [==============================] - 15s 63ms/step - loss: 0.3561 - accuracy: 0.8813 - val_loss: 0.7002 - val_accuracy: 0.7765\n",
      "Epoch 6/8\n",
      "241/241 [==============================] - 15s 61ms/step - loss: 0.3067 - accuracy: 0.8976 - val_loss: 0.3195 - val_accuracy: 0.8998\n",
      "Epoch 7/8\n",
      "241/241 [==============================] - 15s 61ms/step - loss: 0.2492 - accuracy: 0.9171 - val_loss: 0.1738 - val_accuracy: 0.9447\n",
      "Epoch 8/8\n",
      "241/241 [==============================] - 14s 59ms/step - loss: 0.2059 - accuracy: 0.9289 - val_loss: 0.1926 - val_accuracy: 0.9326\n"
     ]
    }
   ],
   "source": [
    "hist=model.fit_generator(data_gen.flow(x1,y1,batch_size=batch_size),\n",
    "                                       validation_data=(x_validation,y_validation),epochs=8,\n",
    "                                       steps_per_epoch=x1.shape[0]//batch_size,shuffle=1)\n",
    "\n",
    "\n",
    "\n",
    "\n",
    "\n",
    "open(\"model.json\",\"w\").write(model.to_json())\n",
    "model.save_weights(\"fruit_classification.h5\")"
   ]
  },
  {
   "cell_type": "code",
   "execution_count": 18,
   "id": "0d879e63",
   "metadata": {},
   "outputs": [
    {
     "name": "stdout",
     "output_type": "stream",
     "text": [
      "1413/1413 [==============================] - 3s 2ms/step - loss: 0.1921 - accuracy: 0.9372\n",
      "Test loss: 0.19209818542003632\n",
      "Test Doğruluk 0.937216579914093\n",
      "283/283 [==============================] - 1s 2ms/step\n"
     ]
    },
    {
     "data": {
      "image/png": "[encoded data removed]",
      "text/plain": [
       "<Figure size 640x480 with 1 Axes>"
      ]
     },
     "metadata": {},
     "output_type": "display_data"
    },
    {
     "data": {
      "image/png": "[encoded data removed]",
      "text/plain": [
       "<Figure size 640x480 with 1 Axes>"
      ]
     },
     "metadata": {},
     "output_type": "display_data"
    }
   ],
   "source": [
    "hist.history.keys()\n",
    "\n",
    "mp.figure()\n",
    "mp.plot(hist.history[\"loss\"],label=\"Eğitim Loss\")\n",
    "mp.plot(hist.history[\"val_loss\"],label=\"Val Loss\")\n",
    "mp.legend()\n",
    "\n",
    "mp.figure()\n",
    "mp.plot(hist.history[\"accuracy\"],label=\"Eğitim Doğruluk\")\n",
    "mp.plot(hist.history[\"val_accuracy\"],label=\"Val Doğruluk\")\n",
    "mp.legend()\n",
    "\n",
    "\n",
    "score=model.evaluate(x2,y2,verbose=1)\n",
    "print(\"Test loss:\",score[0])\n",
    "print(\"Test Doğruluk\",score[1])\n",
    "\n",
    "\n",
    "tahmin=model.predict(x_validation)\n",
    "tahmin_class=np.argmax(tahmin,axis=1)\n",
    "\n",
    "\n",
    "\n",
    "\n",
    "cm=confusion_matrix(y_validation, tahmin_class)"
   ]
  },
  {
   "cell_type": "code",
   "execution_count": null,
   "id": "bd1723c3",
   "metadata": {},
   "outputs": [],
   "source": []
  },
  {
   "cell_type": "code",
   "execution_count": null,
   "id": "198ecb37",
   "metadata": {},
   "outputs": [],
   "source": []
  }
 ],
 "metadata": {
  "kernelspec": {
   "display_name": "Python 3 (ipykernel)",
   "language": "python",
   "name": "python3"
  },
  "language_info": {
   "codemirror_mode": {
    "name": "ipython",
    "version": 3
   },
   "file_extension": ".py",
   "mimetype": "text/x-python",
   "name": "python",
   "nbconvert_exporter": "python",
   "pygments_lexer": "ipython3",
   "version": "3.9.12"
  }
 },
 "nbformat": 4,
 "nbformat_minor": 5
}
